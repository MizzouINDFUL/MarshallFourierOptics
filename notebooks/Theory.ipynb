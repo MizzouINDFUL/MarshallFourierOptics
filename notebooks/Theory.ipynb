{
 "cells": [
  {
   "cell_type": "markdown",
   "id": "a4effe42-d5a2-45de-af4a-a2605f442a14",
   "metadata": {},
   "source": [
    "## From Maxwell's Equations to Scalar Diffraction Theory to Fourier Optics"
   ]
  },
  {
   "cell_type": "markdown",
   "id": "074e2240-ef53-4f05-926f-9717ef7cbc59",
   "metadata": {},
   "source": [
    "### Maxwell's Equations\n",
    "\n",
    "The differential form of Maxwell's equations are:\n",
    "\n",
    "\\begin{align}\n",
    "\\nabla \\times \\vec{E} &= \\frac{-\\partial \\vec{B}}{\\partial t} &\\mbox{Faraday's Law} \\\\\n",
    "\\nabla \\times \\vec{B} &= \\mu \\mathbf{J} + \\mu \\epsilon \\frac{\\partial \\vec{E}}{\\partial t} &\\mbox{Ampere's Law}\\\\\n",
    "\\nabla \\cdot \\vec{E} &= \\frac{1}{\\epsilon} \\rho  & \\mbox{Gauss's Law}\\\\\n",
    "\\nabla \\cdot \\vec{B} &= 0 & \\mbox{No Name}\\\\\n",
    "\\end{align}\n",
    "\n",
    "where $\\vec{E} \\; [V/m]$ is the electric field, $\\vec{B} \\; [N/A\\cdot m]$ is the magnetic field, $\\rho \\; [C/m^3]$ is electric charge density, $\\mathbf{J} \\; [A/m^2]$ is the current density, $\\epsilon \\; [F/m]$ is permittivity, and $\\mu \\; [H/m]$ is permeability. Here, $(\\times)$ is the vector cross product, $(\\cdot)$ is the vector dot product, and $\\nabla = \\frac{\\partial}{\\partial x}\\hat{x} + \\frac{\\partial}{\\partial y}\\hat{y} + \\frac{\\partial}{\\partial z}\\hat{z}$ where $\\hat{x}$, $\\hat{y}$, $\\hat{z}$ are unit vectors in the $x$, $y$, and $z$ directions respectively. The electric and magnetic fields are related to the electric displacement ($\\vec{D} \\; [C/m^2]$) and magnetic intensity ($\\vec{H} \\; [A/m]$) through what are called the constituent relations:\n",
    "\n",
    "\\begin{align}\n",
    "\\vec{H} &= \\mu \\vec{B} \\\\\n",
    "\\vec{D} &= \\epsilon \\vec{E}.\n",
    "\\end{align}\n",
    "\n",
    "From this point forward, unless specifically mentioned, $\\mu = \\mu_r \\cdot \\mu_0$ and $\\epsilon = \\epsilon_r \\cdot \\epsilon_0$, where $\\mu_r$ is the permeability of the medium of propagation, $\\mu_0$ is the permeability of free space, $\\epsilon_r$ is the permittivity specific to the medium of propagation, and $\\epsilon_0$ is the permitivity of free space. In most cases $\\mu_r = 1$ and therefore $\\mu = \\mu_0$. It's common to write Maxwell's equations in terms of $\\vec{E}$ and $\\vec{H}$ due to the similarity of units, i.e., $[V/m]$ and $[A/m]$ respectively. In addition, we are interested in free-space propagation of these fields which means we can assume $\\rho = 0$ and $\\mathbf{J} = 0$. With these considerations, we can rewrite Maxwell's equations as\n",
    "\n",
    "\\begin{align}\n",
    "\\nabla \\times \\vec{E} &= -\\mu_0  \\frac{\\partial \\vec{H}}{\\partial t}\\\\\n",
    "\\nabla \\times \\vec{H} &= \\epsilon \\frac{\\partial \\vec{E}}{\\partial t}\\\\\n",
    "\\nabla \\cdot \\vec{E} &= 0\\\\\n",
    "\\nabla \\cdot \\mu_0\\vec{H} &= 0\\\\\n",
    "\\end{align}\n",
    "\n",
    "which form a system of first order coupled partial differential equations (PDEs). This is the starting point for our scalar wave equation derivation. "
   ]
  },
  {
   "cell_type": "markdown",
   "id": "8d4d9c48-35fc-406f-8128-11ffa1258135",
   "metadata": {},
   "source": [
    "### Scalar Wave Equation\n",
    "\n",
    "The goal of deriving the scalar wave equation is two-fold. First, we would like to decouple the system of PDEs. Second, we would like to remove the vector nature of the equations. \n",
    "\n",
    "#### 1) Decoupling the PDEs\n",
    "Before we can decouple the PDEs, we need to make some broad assumptions about our medium of propagation. Without any motivation we assume the wave is propagating in a dielectric medium that is linear, isotropic, homogeneous, nondispersive, and nonmagnetic. While we wont really get into the consequences of these assumptions here, rest assured these assumptions are valid for free space propagation.\n",
    "\n",
    "To decouple the PDEs we take the curl of Faraday's law and simplify with the vector identity $\\nabla \\times (\\nabla \\times \\vec{E}) = \\nabla(\\nabla \\cdot \\vec{E}) - \\nabla^2 \\vec{E}$, Ampere's law, and Gauss's law assuming no charge density: \n",
    "\\begin{align}\n",
    "\\nabla \\times (\\nabla \\times \\vec{E}) &= \\nabla \\times \\left(-\\mu \\frac{\\partial \\vec{H}}{\\partial t} \\right) \\\\\n",
    "\\nabla(\\nabla \\cdot \\vec{E}) - \\nabla^2 \\vec{E} &= -\\mu \\frac{\\partial}{\\partial t} \\left(\\nabla \\times \\vec{H} \\right) \\\\\n",
    "-\\nabla^2 \\vec{E} &= -\\mu \\frac{\\partial}{\\partial t} \\left(\\epsilon \\frac{\\partial \\vec{E}}{\\partial t}\\right) \\\\\n",
    "\\nabla^2 \\vec{E} -\\mu \\epsilon \\left( \\frac{\\partial^2 \\vec{E}}{\\partial t^2}\\right) &= 0  \\\\\n",
    "\\end{align}\n",
    "which is the vector wave equation. Notice that we started with a system of first order coupled partial differential equations, and we have now arrived at a second order (un-coupled) partial differential equation. There is one final simplification that is typical in most textbooks. We first need to define the index of refraction $n = \\sqrt{\\frac{\\epsilon}{\\epsilon_0}}$ and the speed of light $c = \\frac{1}{\\sqrt{\\mu_0 \\epsilon_0}}$. Substituting in, we arrive at the 'standard' vector wave equation\n",
    "\\begin{equation}\n",
    "\\nabla^2 \\vec{E} - \\frac{n^2}{c^2} \\left( \\frac{\\partial^2 \\vec{E}}{\\partial t^2}\\right) = 0.\n",
    "\\end{equation}\n",
    "The magnetic field satisfies an identical equation\n",
    "\\begin{equation}\n",
    "\\nabla^2 \\vec{H} - \\frac{n^2}{c^2} \\left( \\frac{\\partial^2 \\vec{H}}{\\partial t^2}\\right) = 0.\n",
    "\\end{equation}\n",
    "\n",
    "#### 2) Removing the Vectorial Dependence\n",
    "Both the electric field and magnetic field can be decomposed into their rectilinear components, i.e., $\\vec{E} = E_x\\hat{x} + E_y\\hat{y} + E_z\\hat{z}$ and $\\vec{H} = H_x\\hat{x} + H_y\\hat{y} + H_z\\hat{z}$. Each of these components must satisfy the vector wave equation derived previously, e.g., \n",
    "\n",
    "\\begin{equation}\n",
    "\\nabla^2 E_x - \\frac{n^2}{c^2} \\left( \\frac{\\partial^2 E_x}{\\partial t^2}\\right) = 0\n",
    "\\end{equation}\n",
    "and similarly for $E_y$, $E_z$, $H_x$, $H_y$, and $H_z$. We can therefore summarize the behavior of all the components through a single scalar wave equation,\n",
    "\\begin{equation}\n",
    "\\nabla^2 u(P,t) - \\frac{n^2}{c^2} \\left( \\frac{\\partial^2 u(P,t)}{\\partial t^2}\\right) = 0,\n",
    "\\end{equation}\n",
    "where $u(P,t)$ represents any of the scalar field components, and we've explicitly introduced the dependence of $u$ on both position $P$ and time $t$."
   ]
  },
  {
   "cell_type": "markdown",
   "id": "f926289b-8ef0-4442-81f8-fdab027588ab",
   "metadata": {},
   "source": [
    "### Helmholtz Equation\n",
    "\n",
    "As we derived above, let the light disturbace at postion $P$ and time $t$ be represented by the sclar function $u(P,t)$. For a monochromatic (single wavelength) wave, the scalar field may be writted explicitly as \n",
    "\n",
    "\\begin{equation}\n",
    "u(P,t) = A(P)cos[2\\pi \\nu t - \\phi(P)]\n",
    "\\end{equation}\n",
    "where $A(P)$ is the amplitude of the wave at position $P$, $\\phi(P)$ is the phase of the wave at position $P$, and $\\nu = $ is the optical frequency. We can rewrite in complex notation,\n",
    "\n",
    "\\begin{equation}\n",
    "u(P,t) = \\Re \\left \\{ U(P)exp(-j 2 \\pi \\nu t) \\right \\}\n",
    "\\end{equation}\n",
    "where $\\Re \\{ \\cdot \\}$ signifies \"real part of\", and $U(P)$ is a complex function of position somtimes called a phasor. Because the time dependence of the disturbance $u(P,t)$ is known a priori, $U(P)$ is an adequate description of the disturbance. Substituting $U(P)$ into our scalar wave equation, it follows that $U$ must obey the time-independent equation\n",
    "\n",
    "\\begin{equation}\n",
    "(\\nabla^2 + k^2)U = 0\n",
    "\\end{equation}\n",
    "where $k = 2\\pi / \\lambda$ is called the wavenumbner. This relation is known as the Helmholtz equation and the complex amplitude of any monochromatic optical disturbance propagating in vacuum or in a homogeneous dielectric medium must obey such a relation."
   ]
  },
  {
   "cell_type": "code",
   "execution_count": null,
   "id": "2c19db84-49db-43f3-a511-d9ecd34e3153",
   "metadata": {},
   "outputs": [],
   "source": []
  }
 ],
 "metadata": {
  "kernelspec": {
   "display_name": "Python 3 (ipykernel)",
   "language": "python",
   "name": "python3"
  },
  "language_info": {
   "codemirror_mode": {
    "name": "ipython",
    "version": 3
   },
   "file_extension": ".py",
   "mimetype": "text/x-python",
   "name": "python",
   "nbconvert_exporter": "python",
   "pygments_lexer": "ipython3",
   "version": "3.9.10"
  }
 },
 "nbformat": 4,
 "nbformat_minor": 5
}
