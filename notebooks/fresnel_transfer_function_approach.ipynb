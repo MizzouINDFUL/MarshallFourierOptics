{
 "cells": [
  {
   "cell_type": "markdown",
   "id": "634b86b3-c496-483d-aed6-1c080b3cb12c",
   "metadata": {},
   "source": [
    "## Fresnel Transfer Function Approach\n",
    "\n",
    "1. Given wavelength ($\\lambda$),z, and the largest width of the aperture $l$, calculate the Fresnel Number $N_f$ appropriate for the entire aperture.\n",
    "2. Choose an acceptable level of aliasing at the edge of the diffraction pattern.\n",
    "3. Start by assuming that the aperture is rectangular, even though it may not be. Choose M, Q, and N=QM based on Figure 5.5\n",
    "4. Create the padded aperture array of size NxN centered at index (N/2, N/2)\n",
    "5. Create the quadratic-phase exponential transfer function array of length NxN, centered at index (N/2, N/2)\n",
    "6. Perform a DFT on the aperture array, using an FFT algorithm. Center the result at index (N/2, N/2)\n",
    "7. Multiply the two spectral arrays together element by element and perform an inverse DFT on the product, again using the FFT algorithm.\n",
    "8. Circularly shift the center of the resulting sequence from indices (0,0) to indicies (N/2, N/2)\n",
    "9. If intensity is of interest, take the squared magnitude of each element in the result of the inverse DFT. \n",
    "10. Experiment by increasing or decreasing M to determine its minimum allowable value that will satisfy the aliasing criterion. Choose Q=M/(4Nf) and adjust this value if necessary to yield good results."
   ]
  },
  {
   "cell_type": "code",
   "execution_count": null,
   "id": "636574bc-fb97-4515-afce-3c72ea3421f5",
   "metadata": {},
   "outputs": [],
   "source": [
    "#Import some packages that we will need\n",
    "import torch\n",
    "import matplotlib.pyplot as plt\n",
    "import pint\n",
    "import numpy as np\n",
    "import cv2\n",
    "\n",
    "u = pint.UnitRegistry()\n",
    "\n",
    "#plt.style.use(['science','notebook'])\n",
    "\n",
    "%matplotlib ipympl"
   ]
  },
  {
   "cell_type": "markdown",
   "id": "2377b397-d232-447c-9775-5a03c6878b27",
   "metadata": {
    "tags": []
   },
   "source": [
    "# Experiment 1: Single Slit Aperture"
   ]
  },
  {
   "cell_type": "code",
   "execution_count": null,
   "id": "1b963e2c-d9da-483e-843c-8419f463c5bc",
   "metadata": {},
   "outputs": [],
   "source": [
    "#Now let's define our aperture width, our wavelength, and our propagation distance\n",
    "\n",
    "#Aperture shape\n",
    "l = 0.1 * u.mm\n",
    "l_ = 0.5 * u.mm\n",
    "\n",
    "#Wavelength\n",
    "wavelength = 660 * u.nm\n",
    "\n",
    "#Propagation Distance\n",
    "z = 3 * u.cm\n",
    "\n",
    "#Wavenumber (k)\n",
    "wavenumber = 2*np.pi/wavelength"
   ]
  },
  {
   "cell_type": "code",
   "execution_count": null,
   "id": "664d1faf-5f35-4392-8bc6-5061074b1bf7",
   "metadata": {},
   "outputs": [],
   "source": [
    "#1) Find our Fresnel Number\n",
    "N_f = ( (l/2)**2 ) / (wavelength * z)\n",
    "N_f = N_f.to_base_units()\n",
    "\n",
    "if N_f < 0.25:\n",
    "    print(f\"Nf = {N_f.magnitude} - We are in the Far Field\")\n",
    "else:\n",
    "    print(f\"Nf = {N_f.magnitude} - We are in the Near Field\")"
   ]
  },
  {
   "cell_type": "code",
   "execution_count": null,
   "id": "97ad9b47-3ba2-4529-9d77-50f263e97623",
   "metadata": {},
   "outputs": [],
   "source": [
    "#2) Choose acceptable aliasing\n",
    "aliasing_error = 1e-3 #Pretty arbitrary"
   ]
  },
  {
   "cell_type": "code",
   "execution_count": null,
   "id": "b89afce4-681c-4bbc-8304-7e83d4b61bb2",
   "metadata": {
    "tags": []
   },
   "outputs": [],
   "source": [
    "#3) M, Q, N\n",
    "\n",
    "#Samples in the open aperture\n",
    "M = 15\n",
    "\n",
    "#Sampling Ratio\n",
    "Q = M / (4*N_f)\n",
    "Q = Q.to_base_units()\n",
    "\n",
    "#Total width of the aperture\n",
    "L = wavelength * z * M / l\n",
    "L = L.to_compact()\n",
    "\n",
    "#Total number of samples in the simulation\n",
    "N = Q * M\n",
    "\n",
    "#Sample spacing in the aperture plane\n",
    "dx = L / N\n",
    "dy = dx\n",
    "#Sample spacing in the Frequency domain\n",
    "dfx = 1 / L\n",
    "dfy = dfx\n",
    "\n",
    "print(f\"M = {M}\")\n",
    "print(f\"Q = {Q}\")\n",
    "print(f\"N = {N}\")\n",
    "print(f\"L = {L}\")"
   ]
  },
  {
   "cell_type": "code",
   "execution_count": null,
   "id": "0138fb75-a634-423e-9aaa-f069ebf535fc",
   "metadata": {},
   "outputs": [],
   "source": [
    "#4) Create the NxN padded aperture array centered at (N/2, N/2)\n",
    "# we will embed the open aperture in this array\n",
    "x = np.linspace((-L/2).magnitude, (L/2).magnitude, int(N.to_base_units().magnitude)) *u.mm\n",
    "y = x\n",
    "xx,yy = np.meshgrid(x,y)\n",
    "\n",
    "#Embed an aperture in the array\n",
    "U0 = (np.abs(xx) < l / 2) * (np.abs(yy) < l_)\n",
    "U0 = U0.astype(float)\n"
   ]
  },
  {
   "cell_type": "code",
   "execution_count": null,
   "id": "6c26de5a-7e60-4b9a-8161-6dc303547a88",
   "metadata": {},
   "outputs": [],
   "source": [
    "#Plot it to see the aperture\n",
    "plt.figure(figsize=(5,5))\n",
    "plt.pcolormesh(xx,yy,U0)\n",
    "plt.xlabel('X-Position [mm]')\n",
    "plt.ylabel('Y-Position [mm]')\n",
    "plt.title(\"Single Slit Aperture\")\n",
    "plt.show()"
   ]
  },
  {
   "cell_type": "code",
   "execution_count": null,
   "id": "b1c70581-d672-48cc-944a-7a58652c6bb8",
   "metadata": {},
   "outputs": [],
   "source": [
    "#5) Create the quadratic-phase exponential transfer function array \n",
    "kx = np.fft.fftfreq(len(x), np.diff(x)[0]) * 2 * np.pi\n",
    "ky = kx\n",
    "kxv, kyv = np.meshgrid(kx,ky)\n",
    "\n",
    "H = np.exp(1j * wavenumber * z) * np.exp(-1j * 0.5 * z * wavelength / (2* np.pi) * (kxv**2 + kyv**2))\n",
    "H = np.fft.fftshift(H.magnitude)"
   ]
  },
  {
   "cell_type": "code",
   "execution_count": null,
   "id": "fa3b0d89-2ecc-472f-858c-4e1e68a19be1",
   "metadata": {},
   "outputs": [],
   "source": [
    "#6) Perform the DFT of the aperture and then center\n",
    "A = np.fft.fft2(U0)\n",
    "A = np.fft.fftshift(A)"
   ]
  },
  {
   "cell_type": "code",
   "execution_count": null,
   "id": "36f099d0-e88e-4301-aa07-92a478ebe2be",
   "metadata": {},
   "outputs": [],
   "source": [
    "plt.figure(figsize=(5,5))\n",
    "plt.pcolormesh(np.fft.fftshift(kxv.magnitude), np.fft.fftshift(kyv.magnitude), np.abs(A))\n",
    "plt.xlim(-100,100)\n",
    "plt.ylim(-100,100)\n",
    "plt.xlabel('$k_x$ [mm$^{-1}$]')\n",
    "plt.ylabel('$k_y$ [mm$^{-1}$]')\n",
    "plt.title(\"Spatial Frequency Spectrum \\n of Aperture\")\n",
    "plt.tight_layout()\n",
    "plt.show()"
   ]
  },
  {
   "cell_type": "code",
   "execution_count": null,
   "id": "73318cf7-0e7d-4ab8-be92-bf4811c87251",
   "metadata": {},
   "outputs": [],
   "source": [
    "#7) Multiply\n",
    "U_ = A * H\n",
    "U_ = np.fft.ifft2(U_)"
   ]
  },
  {
   "cell_type": "code",
   "execution_count": null,
   "id": "b20149b8-51e4-428f-89c9-365507ec3e8b",
   "metadata": {},
   "outputs": [],
   "source": [
    "plt.figure(figsize=(5,5))\n",
    "plt.pcolormesh(xx,yy,np.abs(U_), cmap='inferno')\n",
    "plt.xlabel('$x$ [mm]')\n",
    "plt.ylabel('$y$ [mm]')\n",
    "plt.title(\"Aperture Diffraction Pattern\")\n",
    "plt.tight_layout()\n",
    "plt.show()"
   ]
  },
  {
   "cell_type": "code",
   "execution_count": null,
   "id": "1e7fa25b-286f-4482-aace-528ed7e0ecec",
   "metadata": {},
   "outputs": [],
   "source": [
    "#Just a quick comparison to an experimental diffraction pattern\n",
    "#Source: https://personal.math.ubc.ca/~cass/courses/m309-03a/m309-projects/krzak/\n",
    "pattern = cv2.imread('../images/ss_diffraction_pattern.jpg')\n",
    "pattern = cv2.cvtColor(pattern, cv2.COLOR_BGR2RGB)\n",
    "pattern = np.asarray(pattern)\n",
    "\n",
    "plt.figure(figsize=(5,5))\n",
    "plt.imshow(pattern)\n",
    "plt.axis('off')\n",
    "plt.title(\"Experimental Diffraction Pattern\")\n",
    "plt.tight_layout()\n",
    "plt.show()"
   ]
  },
  {
   "cell_type": "markdown",
   "id": "961a99a5-46a2-4ac8-80fd-8a52e2636fd6",
   "metadata": {},
   "source": [
    "# Experiment 2: Double Slit Aperture"
   ]
  },
  {
   "cell_type": "code",
   "execution_count": null,
   "id": "5d82f770-3ddd-4e01-b2b5-55a49c6220e3",
   "metadata": {},
   "outputs": [],
   "source": [
    "#Aperture dims\n",
    "S = 0.2*u.mm\n",
    "D = 0.05*u.mm\n",
    "\n",
    "#Wavelength\n",
    "wavelength = 660 * u.nm\n",
    "\n",
    "#Propagation Distance\n",
    "z = 3 * u.cm\n",
    "\n",
    "#Wavenumber (k)\n",
    "wavenumber = 2*np.pi/wavelength"
   ]
  },
  {
   "cell_type": "code",
   "execution_count": null,
   "id": "3b64670d-21cf-4dd2-8c4a-7b0ed4767c39",
   "metadata": {},
   "outputs": [],
   "source": [
    "#1) Find our Fresnel Number\n",
    "N_f = ( (D/2)**2 ) / (wavelength * z)\n",
    "N_f = N_f.to_base_units()\n",
    "\n",
    "if N_f < 0.25:\n",
    "    print(f\"Nf = {N_f.magnitude} - We are in the Far Field\")\n",
    "else:\n",
    "    print(f\"Nf = {N_f.magnitude} - We are in the Near Field\")"
   ]
  },
  {
   "cell_type": "code",
   "execution_count": null,
   "id": "bdff22b9-1a67-4f5c-96ae-3bfca2fa829f",
   "metadata": {},
   "outputs": [],
   "source": [
    "#3) M, Q, N\n",
    "\n",
    "#Samples in the open aperture\n",
    "M = 12\n",
    "\n",
    "#Sampling Ratio\n",
    "Q = M / (4*N_f)\n",
    "Q = Q.to_base_units()\n",
    "\n",
    "#Total width of the aperture\n",
    "L = wavelength * z * M / D\n",
    "L = L.to_compact()\n",
    "\n",
    "#Total number of samples in the simulation\n",
    "N = Q * M\n",
    "\n",
    "#Sample spacing in the aperture plane\n",
    "dx = L / N\n",
    "dy = dx\n",
    "#Sample spacing in the Frequency domain\n",
    "dfx = 1 / L\n",
    "dfy = dfx\n",
    "\n",
    "print(f\"M = {M}\")\n",
    "print(f\"Q = {Q}\")\n",
    "print(f\"N = {N}\")\n",
    "print(f\"L = {L}\")"
   ]
  },
  {
   "cell_type": "code",
   "execution_count": null,
   "id": "48b0c1e5-f634-4fd6-84f6-0c1e607521a3",
   "metadata": {},
   "outputs": [],
   "source": [
    "#4) Create the NxN padded aperture array centered at (N/2, N/2)\n",
    "# we will embed the open aperture in this array\n",
    "x = np.linspace((-L/2).magnitude, (L/2).magnitude, int(N.to_base_units().magnitude)) *u.mm\n",
    "y = x\n",
    "xx,yy = np.meshgrid(x,y)\n",
    "\n",
    "U0 = (np.abs(xx-S/2)< D/2) * (np.abs(yy)<2*u.mm) + (np.abs(xx+S/2)< D/2) * (np.abs(yy)<2*u.mm)\n",
    "U0 = U0.astype(float)"
   ]
  },
  {
   "cell_type": "code",
   "execution_count": null,
   "id": "2e9e4af5-673d-40e4-bd8c-73f5b7e9ef86",
   "metadata": {},
   "outputs": [],
   "source": [
    "plt.figure(figsize=(5,5))\n",
    "plt.pcolormesh(xx,yy,U0)\n",
    "plt.xlabel('X-Position [mm]')\n",
    "plt.ylabel('Y-Position [mm]')\n",
    "plt.tight_layout()\n",
    "plt.show()"
   ]
  },
  {
   "cell_type": "code",
   "execution_count": null,
   "id": "5925112c-4bb3-48f1-b0ae-326fa7695d4d",
   "metadata": {},
   "outputs": [],
   "source": [
    "#5) Create the quadratic-phase exponential transfer function array \n",
    "kx = np.fft.fftfreq(len(x), np.diff(x)[0]) * 2 * np.pi\n",
    "ky = kx\n",
    "kxv, kyv = np.meshgrid(kx,ky)\n",
    "\n",
    "H = np.exp(1j * wavenumber * z) * np.exp(-1j * 0.5 * z * wavelength / (2* np.pi) * (kxv**2 + kyv**2))\n",
    "H = np.fft.ifftshift(H.magnitude)"
   ]
  },
  {
   "cell_type": "code",
   "execution_count": null,
   "id": "a22d5026-68f4-4fb0-9d7e-6b52e7fcb469",
   "metadata": {},
   "outputs": [],
   "source": [
    "#6) Perform the DFT of the aperture and then center\n",
    "A = np.fft.fft2(U0)\n",
    "A = np.fft.fftshift(A)"
   ]
  },
  {
   "cell_type": "code",
   "execution_count": null,
   "id": "5ba95655-1d6e-4cab-8d36-7c6d8a44a95f",
   "metadata": {},
   "outputs": [],
   "source": [
    "plt.figure(figsize=(5,5))\n",
    "plt.pcolormesh(np.fft.fftshift(kxv.magnitude), np.fft.fftshift(kyv.magnitude), np.abs(A))\n",
    "plt.xlim(-100,100)\n",
    "plt.ylim(-100,100)\n",
    "plt.xlabel('$k_x$ [mm$^{-1}$]')\n",
    "plt.ylabel('$k_y$ [mm$^{-1}$]')\n",
    "plt.title(\"Spatial Frequency Spectrum \\n of Aperture\")\n",
    "plt.tight_layout()\n",
    "plt.show()"
   ]
  },
  {
   "cell_type": "code",
   "execution_count": null,
   "id": "5a518c00-eb37-4699-9b50-aa3cbc950c0b",
   "metadata": {
    "tags": []
   },
   "outputs": [],
   "source": [
    "#7) Multiply\n",
    "U_ = A * H\n",
    "U_ = np.fft.ifft2(U_)"
   ]
  },
  {
   "cell_type": "code",
   "execution_count": null,
   "id": "50d81a2c-84c3-4862-b056-72e74cf369d6",
   "metadata": {},
   "outputs": [],
   "source": [
    "plt.figure(figsize=(5,5))\n",
    "plt.pcolormesh(xx,yy,np.abs(U_), cmap='inferno')\n",
    "plt.xlabel('X-Position [mm]')\n",
    "plt.ylabel('Y-Position [mm]')\n",
    "plt.title(\"Aperture Diffraction Pattern\")\n",
    "plt.tight_layout()\n",
    "plt.show()"
   ]
  },
  {
   "cell_type": "markdown",
   "id": "6f55c811-6c83-49c6-958d-841c4818742e",
   "metadata": {},
   "source": [
    "# Experiment 3: Hexagonal Grating"
   ]
  },
  {
   "cell_type": "code",
   "execution_count": null,
   "id": "b505bf83-2d72-4e3b-a228-1695a7d7c13a",
   "metadata": {},
   "outputs": [],
   "source": [
    "img = cv2.imread('../images/hexagon_grating.jpg')\n",
    "img = np.pad(img, 200, mode='constant')\n",
    "\n",
    "l = 0.1*u.mm #Approximate width of hexagon element\n",
    "\n",
    "#Wavelength\n",
    "wavelength = 660 * u.nm\n",
    "\n",
    "#Propagation Distance\n",
    "z = 3 * u.cm\n",
    "\n",
    "#Wavenumber (k)\n",
    "wavenumber = 2*np.pi/wavelength"
   ]
  },
  {
   "cell_type": "code",
   "execution_count": null,
   "id": "142b5dd1-9dce-4c84-835d-cec98e7a4a89",
   "metadata": {},
   "outputs": [],
   "source": [
    "#1) Find our Fresnel Number\n",
    "N_f = ( (l/2)**2 ) / (wavelength * z)\n",
    "N_f = N_f.to_base_units()\n",
    "\n",
    "if N_f < 0.25:\n",
    "    print(f\"Nf = {N_f.magnitude} - We are in the Far Field\")\n",
    "else:\n",
    "    print(f\"Nf = {N_f.magnitude} - We are in the Near Field\")"
   ]
  },
  {
   "cell_type": "code",
   "execution_count": null,
   "id": "50e0f812-f970-41d3-9223-b9dd35a77618",
   "metadata": {},
   "outputs": [],
   "source": [
    "#3) M, Q, N\n",
    "\n",
    "#Samples in the open aperture\n",
    "M = 15\n",
    "\n",
    "#Sampling Ratio\n",
    "Q = M / (4*N_f)\n",
    "Q = Q.to_base_units()\n",
    "\n",
    "#Total width of the aperture\n",
    "L = wavelength * z * M / l\n",
    "L = L.to_compact()\n",
    "\n",
    "#Total number of samples in the simulation\n",
    "N = Q * M\n",
    "\n",
    "#Sample spacing in the aperture plane\n",
    "dx = L / N\n",
    "dy = dx\n",
    "#Sample spacing in the Frequency domain\n",
    "dfx = 1 / L\n",
    "dfy = dfx\n",
    "\n",
    "print(f\"M = {M}\")\n",
    "print(f\"Q = {Q}\")\n",
    "print(f\"N = {N}\")\n",
    "print(f\"L = {L}\")"
   ]
  },
  {
   "cell_type": "code",
   "execution_count": null,
   "id": "8ff194fc-e988-4fe8-b016-f90bc1f02795",
   "metadata": {},
   "outputs": [],
   "source": [
    "#4) Create the NxN padded aperture array centered at (N/2, N/2)\n",
    "# we will embed the open aperture in this array\n",
    "x = np.linspace((-L/2).magnitude, (L/2).magnitude, int(N.to_base_units().magnitude)) *u.mm\n",
    "y = x\n",
    "xx,yy = np.meshgrid(x,y)\n",
    "\n",
    "img = cv2.resize(img, dsize=(len(x), len(y)), interpolation=cv2.INTER_CUBIC)\n",
    "U0 = np.array(img).sum(axis=2).astype(float)"
   ]
  },
  {
   "cell_type": "code",
   "execution_count": null,
   "id": "de16747b-21d6-489d-8aa0-717dc0754766",
   "metadata": {},
   "outputs": [],
   "source": [
    "#Plot it to see the aperture\n",
    "plt.figure(figsize=(5,5))\n",
    "plt.pcolormesh(xx,yy,U0)\n",
    "plt.xlabel('X-Position [mm]')\n",
    "plt.ylabel('Y-Position [mm]')\n",
    "plt.title(\"Hexagonal Grating\")\n",
    "plt.tight_layout()\n",
    "plt.show()"
   ]
  },
  {
   "cell_type": "code",
   "execution_count": null,
   "id": "5e416b5d-3f30-42e0-b7aa-5c832637f4fb",
   "metadata": {},
   "outputs": [],
   "source": [
    "#5) Create the quadratic-phase exponential transfer function array \n",
    "kx = np.fft.fftfreq(len(x), np.diff(x)[0]) * 2 * np.pi\n",
    "ky = kx\n",
    "kxv, kyv = np.meshgrid(kx,ky)\n",
    "\n",
    "H = np.exp(1j * wavenumber * z) * np.exp(-1j * 0.5 * z * wavelength / (2* np.pi) * (kxv**2 + kyv**2))\n",
    "H = np.fft.fftshift(H.magnitude)"
   ]
  },
  {
   "cell_type": "code",
   "execution_count": null,
   "id": "0a056337-7ea7-4428-a6ab-007c4d1d16bd",
   "metadata": {},
   "outputs": [],
   "source": [
    "#6) Perform the DFT of the aperture and then center\n",
    "A = np.fft.fft2(U0)\n",
    "A = np.fft.fftshift(A)"
   ]
  },
  {
   "cell_type": "code",
   "execution_count": null,
   "id": "492e71b7-bc9f-4fec-ac9c-e97b7dae9358",
   "metadata": {},
   "outputs": [],
   "source": [
    "plt.figure(figsize=(5,5))\n",
    "plt.pcolormesh(np.fft.fftshift(kxv.magnitude), np.fft.fftshift(kyv.magnitude), np.abs(A))\n",
    "plt.xlim(-100,100)\n",
    "plt.ylim(-100,100)\n",
    "plt.xlabel('$k_x$ [mm$^{-1}$]')\n",
    "plt.ylabel('$k_y$ [mm$^{-1}$]')\n",
    "plt.title(\"Spatial Frequency Spectrum \\n of Hexagonal Grating\")\n",
    "plt.tight_layout()\n",
    "plt.show()"
   ]
  },
  {
   "cell_type": "code",
   "execution_count": null,
   "id": "fb5df394-5fb0-4084-8671-da5d363887a8",
   "metadata": {},
   "outputs": [],
   "source": [
    "#7) Multiply\n",
    "U_ = A * H\n",
    "U_ = np.fft.ifft2(U_)"
   ]
  },
  {
   "cell_type": "code",
   "execution_count": null,
   "id": "a3eff4c3-9f44-4b01-9f38-11040eb79146",
   "metadata": {},
   "outputs": [],
   "source": [
    "plt.figure(figsize=(5,5))\n",
    "plt.pcolormesh(xx,yy,np.abs(U_), cmap='inferno')\n",
    "plt.xlabel('X-Position [mm]')\n",
    "plt.ylabel('Y-Position [mm]')\n",
    "plt.title(\"Hexagonal Grating \\nDiffraction Pattern\")\n",
    "plt.tight_layout()\n",
    "plt.show()"
   ]
  },
  {
   "cell_type": "code",
   "execution_count": null,
   "id": "cd4a6014-77b1-4f4d-8740-da7ce20c46e8",
   "metadata": {},
   "outputs": [],
   "source": [
    "with open('hexahonal_dp.npy', 'wb') as f:\n",
    "    np.save(f, U_)"
   ]
  },
  {
   "cell_type": "code",
   "execution_count": null,
   "id": "56145bb6-970e-4906-85db-faed2b920e3d",
   "metadata": {},
   "outputs": [],
   "source": []
  }
 ],
 "metadata": {
  "kernelspec": {
   "display_name": "Python 3 (ipykernel)",
   "language": "python",
   "name": "python3"
  },
  "language_info": {
   "codemirror_mode": {
    "name": "ipython",
    "version": 3
   },
   "file_extension": ".py",
   "mimetype": "text/x-python",
   "name": "python",
   "nbconvert_exporter": "python",
   "pygments_lexer": "ipython3",
   "version": "3.9.10"
  }
 },
 "nbformat": 4,
 "nbformat_minor": 5
}
