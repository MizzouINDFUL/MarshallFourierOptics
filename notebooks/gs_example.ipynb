{
 "cells": [
  {
   "cell_type": "code",
   "execution_count": null,
   "id": "df805349-209f-4a88-a050-3ea6784a4eed",
   "metadata": {},
   "outputs": [],
   "source": [
    "#Import some packages that we will need\n",
    "import torch\n",
    "import matplotlib.pyplot as plt\n",
    "import pint\n",
    "import numpy as np\n",
    "import cv2\n",
    "from tqdm import tqdm\n",
    "\n",
    "u = pint.UnitRegistry()\n",
    "\n",
    "plt.style.use(['science','notebook'])\n",
    "\n",
    "%matplotlib ipympl"
   ]
  },
  {
   "cell_type": "code",
   "execution_count": null,
   "id": "10aa9d90-437b-45d7-985c-4e4d65ecacb3",
   "metadata": {},
   "outputs": [],
   "source": [
    "#Wavelength\n",
    "wavelength = 660 * u.nm\n",
    "\n",
    "#Propagation Distance\n",
    "z = 10.0 * u.cm\n",
    "\n",
    "#Wavenumber (k)\n",
    "wavenumber = 2*np.pi/wavelength\n",
    "\n",
    "#Image width and height (assume square)\n",
    "w = 224\n",
    "h = w\n",
    "\n",
    "#Spatial Extent (This follows from SLM parameters)\n",
    "x_extent = 8.0 * u.mm\n",
    "y_extent = x_extent"
   ]
  },
  {
   "cell_type": "code",
   "execution_count": null,
   "id": "740ad2d2-06f8-4d75-8f65-0a4ba0a56ee8",
   "metadata": {},
   "outputs": [],
   "source": [
    "#Read in our image\n",
    "image = cv2.imread('../images/mizzou.png')\n",
    "\n",
    "#Quick view of the image\n",
    "plt.imshow(image)\n",
    "plt.title('Image for Computational Holography\\n (AKA Desired Diffraction Pattern)')\n",
    "plt.show()"
   ]
  },
  {
   "cell_type": "code",
   "execution_count": null,
   "id": "43f2e33b-9fd6-42d0-bb27-92931eb5ea2a",
   "metadata": {},
   "outputs": [],
   "source": [
    "#Give the image a spatial dimension\n",
    "x = np.linspace(-x_extent/2, x_extent/2, w)\n",
    "y = x\n",
    "xx,yy = np.meshgrid(x,y)\n",
    "\n",
    "image = cv2.resize(image, dsize=(len(x), len(y)), interpolation=cv2.INTER_CUBIC)\n",
    "image = cv2.cvtColor(image, cv2.COLOR_BGR2GRAY)\n",
    "\n",
    "U0 = np.asarray(image)\n",
    "U0 = np.flip(U0, 0) / np.max(U0)\n",
    "\n",
    "plt.figure(figsize=(5,5))\n",
    "plt.pcolormesh(xx,yy,U0)\n",
    "plt.xlabel('X-Position [mm]')\n",
    "plt.ylabel('Y-Position [mm]')\n",
    "plt.title(\"Mizzou Diffraction Pattern\")\n",
    "plt.tight_layout()\n",
    "plt.show()"
   ]
  },
  {
   "cell_type": "code",
   "execution_count": null,
   "id": "c775132e-6710-43ee-ae6c-648a5ebb9b81",
   "metadata": {},
   "outputs": [],
   "source": [
    "#Create our frequency space\n",
    "kx = np.fft.fftfreq(len(x), np.diff(x)[0]) * 2 * np.pi # multiply by 2pi to get angular frequency\n",
    "kxv, kyv = np.meshgrid(kx,kx)"
   ]
  },
  {
   "cell_type": "code",
   "execution_count": null,
   "id": "10f8b99f-69c3-49df-84f5-0ac4372ff10d",
   "metadata": {},
   "outputs": [],
   "source": [
    "#Create a propagation function\n",
    "def propagate(input_wavefront, wavenumber, distance):\n",
    "    H = np.exp(1j * wavenumber * distance) * np.exp(1j* (distance) * np.sqrt(wavenumber**2 - (kxv)**2 - (kyv)**2))\n",
    "    A = np.fft.fft2(input_wavefront)\n",
    "    A = np.fft.fftshift(A)\n",
    "    U_ = A * H\n",
    "    U_ = np.fft.ifftshift(U_.magnitude)\n",
    "    return(np.fft.ifft2(U_))"
   ]
  },
  {
   "cell_type": "code",
   "execution_count": null,
   "id": "1393a433-c866-47d5-b667-ad005ae16c6d",
   "metadata": {},
   "outputs": [],
   "source": [
    "def gsa(wavenumber, desired_image, distance, iterations=1000):\n",
    "    \n",
    "    original_amplitude = np.ones((w,h))\n",
    "    original_phase = np.ones((w,h))\n",
    "    original_wavefront = original_amplitude * np.exp(1j * original_phase)\n",
    "    u1 = original_wavefront\n",
    "    \n",
    "    for i in tqdm(range(iterations), desc=\"Gerchberg-Saxton Algorithm\"):\n",
    "        \n",
    "        #Prop to the image plane\n",
    "        u0 = propagate(u1, wavenumber, distance)\n",
    "        u0_phase = np.angle(u0)\n",
    "        \n",
    "        #Replace the amplitude with desired image\n",
    "        u0 = desired_image * np.exp(1j * u0_phase)\n",
    "        \n",
    "        #Prop to the diffractive plane\n",
    "        u1 = propagate(u0, wavenumber, -distance)\n",
    "        u1_phase = np.angle(u1)\n",
    "        #Replace the amplitude with the original amplitude\n",
    "\n",
    "        u1 = original_amplitude * np.exp(1j * u1_phase)\n",
    "\n",
    "    return u1"
   ]
  },
  {
   "cell_type": "code",
   "execution_count": null,
   "id": "2e84d0fd-f6c0-4260-b8fd-29e28cf15e36",
   "metadata": {},
   "outputs": [],
   "source": [
    "#Run GSA\n",
    "forward_wavefront = gsa(wavenumber, U0, z, 2000)"
   ]
  },
  {
   "cell_type": "code",
   "execution_count": null,
   "id": "0cfa0eee-4054-4728-88d6-8cf07d8b2e8f",
   "metadata": {},
   "outputs": [],
   "source": [
    "diffraction_pattern = propagate(forward_wavefront, wavenumber, z)"
   ]
  },
  {
   "cell_type": "code",
   "execution_count": null,
   "id": "44dfa953-932b-4455-b613-a30516560341",
   "metadata": {},
   "outputs": [],
   "source": [
    "#Plot it to see the diffraction pattern\n",
    "plt.figure(figsize=(5,5))\n",
    "plt.pcolormesh(xx,yy,np.abs(diffraction_pattern)**2)\n",
    "plt.xlabel('X-Position [mm]')\n",
    "plt.ylabel('Y-Position [mm]')\n",
    "plt.title(\"Tiger Diffraction Pattern\")\n",
    "plt.tight_layout()\n",
    "plt.show()"
   ]
  },
  {
   "cell_type": "markdown",
   "id": "2d92ac71-3825-4882-b148-128af8f9810a",
   "metadata": {},
   "source": [
    "# Wavefront Animation"
   ]
  },
  {
   "cell_type": "code",
   "execution_count": null,
   "id": "2029369b-aa7b-488f-b276-bb3645a84654",
   "metadata": {
    "tags": []
   },
   "outputs": [],
   "source": [
    "from matplotlib.animation import FuncAnimation\n",
    "\n",
    "def animate(frame_num):\n",
    "    img = np.abs(data[frame_num])**2\n",
    "    im.set_array(img.ravel())\n",
    "    ax.set_title(f\"Tiger Diffraction Pattern\\nScreen Distance: {(frame_num+1) * z / 100}\")\n",
    "    return im"
   ]
  },
  {
   "cell_type": "code",
   "execution_count": null,
   "id": "427e837d-3c92-46e2-97b9-420bcad00644",
   "metadata": {},
   "outputs": [],
   "source": [
    "data = []\n",
    "propagation_distances = np.linspace(0,z,100)\n",
    "for z_ in tqdm(propagation_distances, desc=\"Sampling Wavefront\"):\n",
    "    data.append(propagate(forward_wavefront, wavenumber, z_))\n",
    "    \n",
    "data = np.asarray(data)\n",
    "min_ = np.min(np.abs(data))\n",
    "max_ = np.max(np.abs(data))"
   ]
  },
  {
   "cell_type": "code",
   "execution_count": null,
   "id": "8363a576-f0d3-4ab7-be96-6be14037b441",
   "metadata": {},
   "outputs": [],
   "source": [
    "fig,ax = plt.subplots(1,1, figsize=(5,5))\n",
    "im = ax.pcolormesh(xx,yy,np.abs(data[0])**2, vmin=min_, vmax=max_)\n",
    "ax.set_xlabel('X-Position [mm]')\n",
    "ax.set_label('Y-Position [mm]')\n",
    "ax.set_title(f\"Tiger Diffraction Pattern\\nScreen Distance: {0 * z}\")\n",
    "plt.tight_layout()\n",
    "anim = FuncAnimation(fig, animate, frames=len(data), interval=100, repeat=False)\n",
    "plt.show()"
   ]
  },
  {
   "cell_type": "code",
   "execution_count": null,
   "id": "a12608d8-0a8e-423d-bcdc-04b6e6935b42",
   "metadata": {},
   "outputs": [],
   "source": []
  },
  {
   "cell_type": "code",
   "execution_count": null,
   "id": "2809cbfe-6caa-48f0-9943-a6568acd5bab",
   "metadata": {},
   "outputs": [],
   "source": []
  }
 ],
 "metadata": {
  "kernelspec": {
   "display_name": "Python 3 (ipykernel)",
   "language": "python",
   "name": "python3"
  },
  "language_info": {
   "codemirror_mode": {
    "name": "ipython",
    "version": 3
   },
   "file_extension": ".py",
   "mimetype": "text/x-python",
   "name": "python",
   "nbconvert_exporter": "python",
   "pygments_lexer": "ipython3",
   "version": "3.9.10"
  }
 },
 "nbformat": 4,
 "nbformat_minor": 5
}
