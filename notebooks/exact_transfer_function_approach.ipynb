{
 "cells": [
  {
   "cell_type": "code",
   "execution_count": null,
   "id": "bfc04abd-bfee-42e2-99e7-c4da99ce5945",
   "metadata": {},
   "outputs": [],
   "source": [
    "#Import some packages that we will need\n",
    "import torch\n",
    "import matplotlib.pyplot as plt\n",
    "import pint\n",
    "import numpy as np\n",
    "import cv2\n",
    "from tqdm import tqdm\n",
    "from IPython.display import HTML\n",
    "\n",
    "u = pint.UnitRegistry()\n",
    "\n",
    "plt.style.use(['science','notebook'])\n",
    "\n",
    "%matplotlib ipympl"
   ]
  },
  {
   "cell_type": "markdown",
   "id": "10c57d43-d931-4202-9a0a-cc067f4ee965",
   "metadata": {},
   "source": [
    "# Experiment #1: Single Slit Aperture"
   ]
  },
  {
   "cell_type": "code",
   "execution_count": null,
   "id": "f46b623b-745e-40df-bdb2-1171b11b6ad2",
   "metadata": {},
   "outputs": [],
   "source": [
    "#Now let's define our aperture width, our wavelength, and our propagation distance\n",
    "\n",
    "#Aperture shape\n",
    "l = 0.1 * u.mm\n",
    "l_ = 0.5 * u.mm\n",
    "\n",
    "#Wavelength\n",
    "wavelength = 660 * u.nm\n",
    "\n",
    "#Propagation Distance\n",
    "z = 3 * u.cm\n",
    "\n",
    "#Wavenumber (k)\n",
    "wavenumber = 2*np.pi/wavelength"
   ]
  },
  {
   "cell_type": "code",
   "execution_count": null,
   "id": "598465fe-304c-4b57-82a4-a8e696e5f14e",
   "metadata": {},
   "outputs": [],
   "source": [
    "#1) Find our Fresnel Number\n",
    "N_f = ( (l/2)**2 ) / (wavelength * z)\n",
    "N_f = N_f.to_base_units()\n",
    "\n",
    "if N_f < 0.25:\n",
    "    print(f\"Nf = {N_f.magnitude} - We are in the Far Field\")\n",
    "else:\n",
    "    print(f\"Nf = {N_f.magnitude} - We are in the Near Field\")"
   ]
  },
  {
   "cell_type": "code",
   "execution_count": null,
   "id": "922b5e25-62b1-4c8f-8fea-8dd7b2fcd32a",
   "metadata": {},
   "outputs": [],
   "source": [
    "#2) Choose acceptable aliasing\n",
    "aliasing_error = 1e-3 #Pretty arbitrary"
   ]
  },
  {
   "cell_type": "code",
   "execution_count": null,
   "id": "2c832f3a-12a9-4e29-81d3-bdcd026031b9",
   "metadata": {},
   "outputs": [],
   "source": [
    "#3) M, Q, N\n",
    "\n",
    "#Samples in the open aperture\n",
    "M = 15\n",
    "\n",
    "#Sampling Ratio\n",
    "Q = M / (4*N_f)\n",
    "Q = Q.to_base_units()\n",
    "\n",
    "#Total width of the aperture\n",
    "L = wavelength * z * M / l\n",
    "L = L.to_compact()\n",
    "\n",
    "#Total number of samples in the simulation\n",
    "N = Q * M\n",
    "\n",
    "#Sample spacing in the aperture plane\n",
    "dx = L / N\n",
    "dy = dx\n",
    "#Sample spacing in the Frequency domain\n",
    "dfx = 1 / L\n",
    "dfy = dfx\n",
    "\n",
    "print(f\"M = {M}\")\n",
    "print(f\"Q = {Q}\")\n",
    "print(f\"N = {N}\")\n",
    "print(f\"L = {L}\")"
   ]
  },
  {
   "cell_type": "code",
   "execution_count": null,
   "id": "61c5f38a-06cc-44b1-b7f3-204dab040950",
   "metadata": {},
   "outputs": [],
   "source": [
    "#4) Create the NxN padded aperture array centered at (N/2, N/2)\n",
    "# we will embed the open aperture in this array\n",
    "x = np.linspace((-L/2).magnitude, (L/2).magnitude, int(N.to_base_units().magnitude)) *u.mm\n",
    "y = x\n",
    "xx,yy = np.meshgrid(x,y)\n",
    "\n",
    "#Embed an aperture in the array\n",
    "U0 = (np.abs(xx) < l / 2) * (np.abs(yy) < l_)\n",
    "U0 = U0.astype(float)"
   ]
  },
  {
   "cell_type": "code",
   "execution_count": null,
   "id": "8ca545f0-410f-40f1-9d87-aa9ac4916891",
   "metadata": {},
   "outputs": [],
   "source": [
    "#Plot it to see the aperture\n",
    "plt.figure(figsize=(5,5))\n",
    "plt.pcolormesh(xx,yy,U0)\n",
    "plt.xlabel('X-Position [mm]')\n",
    "plt.ylabel('Y-Position [mm]')\n",
    "plt.title(\"Single Slit Aperture\")\n",
    "plt.show()"
   ]
  },
  {
   "cell_type": "code",
   "execution_count": null,
   "id": "aa852836-39ed-4ab3-85be-f676f18c0f97",
   "metadata": {},
   "outputs": [],
   "source": [
    "#5) Create the quadratic-phase exponential transfer function array \n",
    "kx = np.fft.fftfreq(len(x), np.diff(x)[0]) * 2 * np.pi\n",
    "ky = kx\n",
    "kxv, kyv = np.meshgrid(kx,ky)\n",
    "\n",
    "H = np.exp(1j * wavenumber * z) * np.exp(1j* (z) * np.sqrt(wavenumber**2 - (kxv)**2 - (kyv)**2))\n",
    "H = np.fft.fftshift(H.magnitude)"
   ]
  },
  {
   "cell_type": "code",
   "execution_count": null,
   "id": "fa28a3e6-0f35-423d-ab25-df522dd0b391",
   "metadata": {},
   "outputs": [],
   "source": [
    "#6) Perform the DFT of the aperture and then center\n",
    "A = np.fft.fft2(U0)\n",
    "A = np.fft.fftshift(A)"
   ]
  },
  {
   "cell_type": "code",
   "execution_count": null,
   "id": "c28a1671-4654-4206-aae9-e18eaa8a9134",
   "metadata": {},
   "outputs": [],
   "source": [
    "plt.figure(figsize=(5,5))\n",
    "plt.pcolormesh(np.fft.fftshift(kxv.magnitude), np.fft.fftshift(kyv.magnitude), np.abs(A))\n",
    "plt.xlim(-100,100)\n",
    "plt.ylim(-100,100)\n",
    "plt.xlabel('$k_x$ [mm$^{-1}$]')\n",
    "plt.ylabel('$k_y$ [mm$^{-1}$]')\n",
    "plt.title(\"Spatial Frequency Spectrum \\n of Aperture\")\n",
    "plt.tight_layout()\n",
    "plt.show()"
   ]
  },
  {
   "cell_type": "code",
   "execution_count": null,
   "id": "2d06ea74-41ed-4763-aaad-2cfbaf47acf8",
   "metadata": {},
   "outputs": [],
   "source": [
    "#7) Multiply\n",
    "U_ = A * H\n",
    "U_ = np.fft.ifft2(U_)"
   ]
  },
  {
   "cell_type": "code",
   "execution_count": null,
   "id": "4b7fb7f8-4fbd-4073-8757-ff3442fb91d6",
   "metadata": {},
   "outputs": [],
   "source": [
    "plt.figure(figsize=(5,5))\n",
    "plt.pcolormesh(xx,yy,np.abs(U_), cmap='inferno')\n",
    "plt.xlabel('$x$ [mm]')\n",
    "plt.ylabel('$y$ [mm]')\n",
    "plt.title(\"Aperture Diffraction Pattern\")\n",
    "plt.tight_layout()\n",
    "plt.show()"
   ]
  },
  {
   "cell_type": "code",
   "execution_count": null,
   "id": "edeaa40c-0ef1-4bb9-b028-6668340fb1c0",
   "metadata": {},
   "outputs": [],
   "source": [
    "#Just a quick comparison to an experimental diffraction pattern\n",
    "#Source: https://personal.math.ubc.ca/~cass/courses/m309-03a/m309-projects/krzak/\n",
    "pattern = cv2.imread('../images/ss_diffraction_pattern.jpg')\n",
    "pattern = cv2.cvtColor(pattern, cv2.COLOR_BGR2RGB)\n",
    "pattern = np.asarray(pattern)\n",
    "\n",
    "plt.figure(figsize=(5,5))\n",
    "plt.imshow(pattern)\n",
    "plt.axis('off')\n",
    "plt.title(\"Experimental Diffraction Pattern\")\n",
    "plt.tight_layout()\n",
    "plt.show()"
   ]
  },
  {
   "cell_type": "markdown",
   "id": "2a057147-145f-49c8-8023-304e79dcfef9",
   "metadata": {},
   "source": [
    "# Experiment #2: Double Slit"
   ]
  },
  {
   "cell_type": "code",
   "execution_count": null,
   "id": "82c924c5-60f6-4d50-bfc8-2ad29377d65d",
   "metadata": {},
   "outputs": [],
   "source": [
    "#Create a propagation function\n",
    "def propagate(input_wavefront, wavenumber, z):\n",
    "    H = np.exp(1j * wavenumber * z) * np.exp(1j* (z) * np.sqrt(wavenumber**2 - (kxv)**2 - (kyv)**2))\n",
    "    H = np.fft.fftshift(H.magnitude)\n",
    "    A = np.fft.fft2(input_wavefront)\n",
    "    A = np.fft.fftshift(A)\n",
    "    U_ = A * H\n",
    "    U_ = np.fft.ifftshift(U_)\n",
    "    return(np.fft.ifft2(U_))"
   ]
  },
  {
   "cell_type": "code",
   "execution_count": null,
   "id": "931ddfe2-993d-4891-88fe-90d59dab4b20",
   "metadata": {},
   "outputs": [],
   "source": [
    "#Aperture dims\n",
    "S = 0.2*u.mm\n",
    "D = 0.05*u.mm\n",
    "\n",
    "#Wavelength\n",
    "wavelength = 660 * u.nm\n",
    "\n",
    "#Propagation Distance\n",
    "z = 3 * u.cm\n",
    "\n",
    "#Wavenumber (k)\n",
    "wavenumber = 2*np.pi/wavelength"
   ]
  },
  {
   "cell_type": "code",
   "execution_count": null,
   "id": "b9c89af2-e412-4b57-b150-a646ad6dab2b",
   "metadata": {},
   "outputs": [],
   "source": [
    "#1) Find our Fresnel Number\n",
    "N_f = ( (D/2)**2 ) / (wavelength * z)\n",
    "N_f = N_f.to_base_units()\n",
    "\n",
    "if N_f < 0.25:\n",
    "    print(f\"Nf = {N_f.magnitude} - We are in the Far Field\")\n",
    "else:\n",
    "    print(f\"Nf = {N_f.magnitude} - We are in the Near Field\")"
   ]
  },
  {
   "cell_type": "code",
   "execution_count": null,
   "id": "f2afc2f3-b84c-4adb-8dda-c047b24fcdca",
   "metadata": {},
   "outputs": [],
   "source": [
    "#3) M, Q, N\n",
    "\n",
    "#Samples in the open aperture\n",
    "M = 12\n",
    "\n",
    "#Sampling Ratio\n",
    "Q = M / (4*N_f)\n",
    "Q = Q.to_base_units()\n",
    "\n",
    "#Total width of the aperture\n",
    "L = wavelength * z * M / D\n",
    "L = L.to_compact()\n",
    "\n",
    "#Total number of samples in the simulation\n",
    "N = Q * M\n",
    "\n",
    "#Sample spacing in the aperture plane\n",
    "dx = L / N\n",
    "dy = dx\n",
    "#Sample spacing in the Frequency domain\n",
    "dfx = 1 / L\n",
    "dfy = dfx\n",
    "\n",
    "print(f\"M = {M}\")\n",
    "print(f\"Q = {Q}\")\n",
    "print(f\"N = {N}\")\n",
    "print(f\"L = {L}\")"
   ]
  },
  {
   "cell_type": "code",
   "execution_count": null,
   "id": "653c2a86-aff6-4f05-9620-e555945d0ce5",
   "metadata": {},
   "outputs": [],
   "source": [
    "#4) Create the NxN padded aperture array centered at (N/2, N/2)\n",
    "# we will embed the open aperture in this array\n",
    "x = np.linspace((-L/2).magnitude, (L/2).magnitude, int(N.to_base_units().magnitude)) *u.mm\n",
    "y = x\n",
    "xx,yy = np.meshgrid(x,y)\n",
    "\n",
    "U0 = (np.abs(xx-S/2)< D/2) * (np.abs(yy)<2*u.mm) + (np.abs(xx+S/2)< D/2) * (np.abs(yy)<2*u.mm)\n",
    "U0 = U0.astype(float)"
   ]
  },
  {
   "cell_type": "code",
   "execution_count": null,
   "id": "ae3881df-18d3-4b9c-8696-e4492dc118ac",
   "metadata": {},
   "outputs": [],
   "source": [
    "plt.figure(figsize=(5,5))\n",
    "plt.pcolormesh(xx,yy,U0)\n",
    "plt.xlabel('X-Position [mm]')\n",
    "plt.ylabel('Y-Position [mm]')\n",
    "plt.tight_layout()\n",
    "plt.show()"
   ]
  },
  {
   "cell_type": "code",
   "execution_count": null,
   "id": "90c8a6e8-e7d2-4abd-a67d-2cb6f8092d38",
   "metadata": {},
   "outputs": [],
   "source": [
    "#5) Create the quadratic-phase exponential transfer function array \n",
    "kx = np.fft.fftfreq(len(x), np.diff(x)[0]) * 2 * np.pi\n",
    "ky = kx\n",
    "kxv, kyv = np.meshgrid(kx,ky)"
   ]
  },
  {
   "cell_type": "code",
   "execution_count": null,
   "id": "d5b735bf-3c16-4480-b9c3-3bccdba8c2ed",
   "metadata": {},
   "outputs": [],
   "source": [
    "U_ = propagate(U0, wavenumber, z)"
   ]
  },
  {
   "cell_type": "code",
   "execution_count": null,
   "id": "ff2ebd42-6c8a-42be-934d-93ceb1ae14ff",
   "metadata": {},
   "outputs": [],
   "source": [
    "plt.figure(figsize=(5,5))\n",
    "plt.pcolormesh(xx,yy,np.abs(U_), cmap='inferno')\n",
    "plt.xlabel('$x$ [mm]')\n",
    "plt.ylabel('$y$ [mm]')\n",
    "plt.title(\"Aperture Diffraction Pattern\")\n",
    "plt.tight_layout()\n",
    "plt.show()"
   ]
  },
  {
   "cell_type": "markdown",
   "id": "bb56d767-302e-4e4d-942a-1242c39b8ec0",
   "metadata": {},
   "source": [
    "# Experiment #3: Hexagonal Grating"
   ]
  },
  {
   "cell_type": "code",
   "execution_count": null,
   "id": "10eb059c-a52f-4ee3-a611-7d3b57bb98e1",
   "metadata": {},
   "outputs": [],
   "source": [
    "img = cv2.imread('../images/hexagon_grating.jpg')\n",
    "img = np.pad(img, 200, mode='constant')\n",
    "\n",
    "l = 0.1*u.mm #Approximate width of hexagon element\n",
    "\n",
    "#Wavelength\n",
    "wavelength = 660 * u.nm\n",
    "\n",
    "#Propagation Distance\n",
    "z = 3 * u.cm\n",
    "\n",
    "#Wavenumber (k)\n",
    "wavenumber = 2*np.pi/wavelength"
   ]
  },
  {
   "cell_type": "code",
   "execution_count": null,
   "id": "d81250e2-87b8-4215-a8a5-6c15e79485ae",
   "metadata": {},
   "outputs": [],
   "source": [
    "#1) Find our Fresnel Number\n",
    "N_f = ( (l/2)**2 ) / (wavelength * z)\n",
    "N_f = N_f.to_base_units()\n",
    "\n",
    "if N_f < 0.25:\n",
    "    print(f\"Nf = {N_f.magnitude} - We are in the Far Field\")\n",
    "else:\n",
    "    print(f\"Nf = {N_f.magnitude} - We are in the Near Field\")"
   ]
  },
  {
   "cell_type": "code",
   "execution_count": null,
   "id": "5fa4ea74-0a6b-4728-abd0-ca9d507cb75c",
   "metadata": {},
   "outputs": [],
   "source": [
    "#3) M, Q, N\n",
    "\n",
    "#Samples in the open aperture\n",
    "M = 15\n",
    "\n",
    "#Sampling Ratio\n",
    "Q = M / (4*N_f)\n",
    "Q = Q.to_base_units()\n",
    "\n",
    "#Total width of the aperture\n",
    "L = wavelength * z * M / l\n",
    "L = L.to_compact()\n",
    "\n",
    "#Total number of samples in the simulation\n",
    "N = Q * M\n",
    "\n",
    "#Sample spacing in the aperture plane\n",
    "dx = L / N\n",
    "dy = dx\n",
    "#Sample spacing in the Frequency domain\n",
    "dfx = 1 / L\n",
    "dfy = dfx\n",
    "\n",
    "print(f\"M = {M}\")\n",
    "print(f\"Q = {Q}\")\n",
    "print(f\"N = {N}\")\n",
    "print(f\"L = {L}\")"
   ]
  },
  {
   "cell_type": "code",
   "execution_count": null,
   "id": "2daca23c-5a47-4d07-9252-342ea8d57f07",
   "metadata": {},
   "outputs": [],
   "source": [
    "#4) Create the NxN padded aperture array centered at (N/2, N/2)\n",
    "# we will embed the open aperture in this array\n",
    "x = np.linspace((-L/2).magnitude, (L/2).magnitude, int(N.to_base_units().magnitude)) *u.mm\n",
    "y = x\n",
    "xx,yy = np.meshgrid(x,y)\n",
    "\n",
    "img = cv2.resize(img, dsize=(len(x), len(y)), interpolation=cv2.INTER_CUBIC)\n",
    "U0 = np.array(img).sum(axis=2).astype(float)"
   ]
  },
  {
   "cell_type": "code",
   "execution_count": null,
   "id": "10a3dae5-d55b-4911-983b-3e6f18131d1e",
   "metadata": {},
   "outputs": [],
   "source": [
    "#Plot it to see the aperture\n",
    "plt.figure(figsize=(5,5))\n",
    "plt.pcolormesh(xx,yy,U0)\n",
    "plt.xlabel('X-Position [mm]')\n",
    "plt.ylabel('Y-Position [mm]')\n",
    "plt.title(\"Hexagonal Grating\")\n",
    "plt.tight_layout()\n",
    "plt.show()"
   ]
  },
  {
   "cell_type": "code",
   "execution_count": null,
   "id": "34715948-1c13-4c4a-b9f9-38604efd7144",
   "metadata": {},
   "outputs": [],
   "source": [
    "#5) Create the quadratic-phase exponential transfer function array \n",
    "kx = np.fft.fftfreq(len(x), np.diff(x)[0]) * 2 * np.pi\n",
    "ky = kx\n",
    "kxv, kyv = np.meshgrid(kx,ky)"
   ]
  },
  {
   "cell_type": "code",
   "execution_count": null,
   "id": "d4c284f9-19b7-4bcc-adbc-b6b5dd7e2f5f",
   "metadata": {},
   "outputs": [],
   "source": [
    "U_ = propagate(U0, wavenumber, z)"
   ]
  },
  {
   "cell_type": "code",
   "execution_count": null,
   "id": "4c67b033-8537-46b2-a4a2-3d546a7e3bec",
   "metadata": {},
   "outputs": [],
   "source": [
    "plt.figure(figsize=(5,5))\n",
    "plt.pcolormesh(xx,yy,np.abs(U_), cmap='inferno')\n",
    "plt.xlabel('$x$ [mm]')\n",
    "plt.ylabel('$y$ [mm]')\n",
    "plt.title(\"Aperture Diffraction Pattern\")\n",
    "plt.tight_layout()\n",
    "plt.show()"
   ]
  },
  {
   "cell_type": "markdown",
   "id": "a86b3696-0c6a-4805-9b39-ac8b99ec957d",
   "metadata": {},
   "source": [
    "# Wavefront Animation"
   ]
  },
  {
   "cell_type": "code",
   "execution_count": null,
   "id": "396bc956-bf26-4625-ad77-ec92c796ca7f",
   "metadata": {},
   "outputs": [],
   "source": [
    "data = []\n",
    "z = 10 * u.cm\n",
    "propagation_distances = np.linspace(0,z,1000)\n",
    "for z_ in tqdm(propagation_distances, desc=\"Sampling Wavefront\"):\n",
    "    data.append(propagate(U0, wavenumber, z_))\n",
    "    \n",
    "data = np.asarray(data)\n",
    "min_ = np.min(np.abs(data))\n",
    "max_ = np.max(np.abs(data))"
   ]
  },
  {
   "cell_type": "code",
   "execution_count": null,
   "id": "37243bf0-07a6-43ba-8852-1fb40fb8b0ee",
   "metadata": {},
   "outputs": [],
   "source": [
    "from matplotlib.animation import FuncAnimation\n",
    "import matplotlib\n",
    "matplotlib.rcParams[\"animation.embed_limit\"] = 2**128\n",
    "def animate(frame_num):\n",
    "    img = np.abs(data[frame_num])\n",
    "    im.set_array(img)\n",
    "    ax.set_title(f\"Hexagonal Diffraction Pattern\\nScreen Distance: {(frame_num+1) * z / 1000}\")\n",
    "    return im"
   ]
  },
  {
   "cell_type": "code",
   "execution_count": null,
   "id": "34be0d49-b451-4c9f-9850-f854a6a9aa91",
   "metadata": {},
   "outputs": [],
   "source": [
    "fig,ax = plt.subplots(1,1, figsize=(5,5))\n",
    "im = ax.pcolormesh(xx,yy,np.abs(data[0]), vmin=min_, vmax=max_, cmap='inferno')\n",
    "ax.set_xlabel('X-Position [mm]')\n",
    "ax.set_label('Y-Position [mm]')\n",
    "ax.set_title(f\"Hexagonal Diffraction Pattern\\nScreen Distance: {0 * z}\")\n",
    "HTML(FuncAnimation(fig, animate, frames=len(data)).to_jshtml())"
   ]
  },
  {
   "cell_type": "code",
   "execution_count": null,
   "id": "af6dec6a-530d-4c3b-9320-d9bc81736bf9",
   "metadata": {},
   "outputs": [],
   "source": []
  }
 ],
 "metadata": {
  "kernelspec": {
   "display_name": "Python 3 (ipykernel)",
   "language": "python",
   "name": "python3"
  },
  "language_info": {
   "codemirror_mode": {
    "name": "ipython",
    "version": 3
   },
   "file_extension": ".py",
   "mimetype": "text/x-python",
   "name": "python",
   "nbconvert_exporter": "python",
   "pygments_lexer": "ipython3",
   "version": "3.9.10"
  }
 },
 "nbformat": 4,
 "nbformat_minor": 5
}
