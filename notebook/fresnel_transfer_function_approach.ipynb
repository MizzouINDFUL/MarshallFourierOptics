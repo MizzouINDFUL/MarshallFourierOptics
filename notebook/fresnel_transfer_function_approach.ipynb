{
 "cells": [
  {
   "cell_type": "markdown",
   "id": "634b86b3-c496-483d-aed6-1c080b3cb12c",
   "metadata": {},
   "source": [
    "## Fresnel Transfer Function Approach\n",
    "\n",
    "1. Given $\\lambda$,z, and the largest width of the aperture $l$, calculate the Fresnel Number $N_f$ appropriate for the entire aperture."
   ]
  },
  {
   "cell_type": "code",
   "execution_count": 3,
   "id": "db2fd65f-533b-4539-b69c-6fced820cacb",
   "metadata": {},
   "outputs": [],
   "source": [
    "#First, lets define our units\n",
    "cm = 1e-2\n",
    "mm = 1e-3\n",
    "um = 1e-6\n",
    "nm = 1e-9"
   ]
  },
  {
   "cell_type": "code",
   "execution_count": 1,
   "id": "664d1faf-5f35-4392-8bc6-5061074b1bf7",
   "metadata": {},
   "outputs": [
    {
     "ename": "NameError",
     "evalue": "name 'l' is not defined",
     "output_type": "error",
     "traceback": [
      "\u001b[0;31m---------------------------------------------------------------------------\u001b[0m",
      "\u001b[0;31mNameError\u001b[0m                                 Traceback (most recent call last)",
      "\u001b[0;32m/tmp/ipykernel_20490/1859733362.py\u001b[0m in \u001b[0;36m<module>\u001b[0;34m\u001b[0m\n\u001b[0;32m----> 1\u001b[0;31m \u001b[0mN_f\u001b[0m \u001b[0;34m=\u001b[0m \u001b[0;34m(\u001b[0m \u001b[0;34m(\u001b[0m\u001b[0ml\u001b[0m\u001b[0;34m/\u001b[0m\u001b[0;36m2\u001b[0m\u001b[0;34m)\u001b[0m\u001b[0;34m**\u001b[0m\u001b[0;36m2\u001b[0m \u001b[0;34m)\u001b[0m \u001b[0;34m/\u001b[0m \u001b[0;34m(\u001b[0m\u001b[0mwavelength\u001b[0m \u001b[0;34m*\u001b[0m \u001b[0mz\u001b[0m\u001b[0;34m)\u001b[0m\u001b[0;34m\u001b[0m\u001b[0;34m\u001b[0m\u001b[0m\n\u001b[0m",
      "\u001b[0;31mNameError\u001b[0m: name 'l' is not defined"
     ]
    }
   ],
   "source": [
    "N_f = ( (l/2)**2 ) / (wavelength * z)"
   ]
  },
  {
   "cell_type": "code",
   "execution_count": null,
   "id": "97ad9b47-3ba2-4529-9d77-50f263e97623",
   "metadata": {},
   "outputs": [],
   "source": []
  }
 ],
 "metadata": {
  "kernelspec": {
   "display_name": "Python 3 (ipykernel)",
   "language": "python",
   "name": "python3"
  },
  "language_info": {
   "codemirror_mode": {
    "name": "ipython",
    "version": 3
   },
   "file_extension": ".py",
   "mimetype": "text/x-python",
   "name": "python",
   "nbconvert_exporter": "python",
   "pygments_lexer": "ipython3",
   "version": "3.9.10"
  }
 },
 "nbformat": 4,
 "nbformat_minor": 5
}
