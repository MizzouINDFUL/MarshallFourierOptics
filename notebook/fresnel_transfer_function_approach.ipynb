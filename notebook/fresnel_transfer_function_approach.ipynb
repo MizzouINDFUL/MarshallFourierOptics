{
 "cells": [
  {
   "cell_type": "markdown",
   "id": "634b86b3-c496-483d-aed6-1c080b3cb12c",
   "metadata": {},
   "source": [
    "## Fresnel Transfer Function Approach\n",
    "\n",
    "1. Given $\\lambda$,z, and the largest width of the aperture $l$, calculate the Fresnel Number $N_f$ appropriate for the entire aperture."
   ]
  },
  {
   "cell_type": "code",
   "execution_count": 8,
   "id": "636574bc-fb97-4515-afce-3c72ea3421f5",
   "metadata": {},
   "outputs": [],
   "source": [
    "#Import some packages that we will need\n",
    "import numpy as np\n",
    "import matplotlib.pyplot as plt"
   ]
  },
  {
   "cell_type": "code",
   "execution_count": 14,
   "id": "db2fd65f-533b-4539-b69c-6fced820cacb",
   "metadata": {},
   "outputs": [],
   "source": [
    "#First, lets define our units\n",
    "cm = 1e-2\n",
    "mm = 1e-3\n",
    "um = 1e-6\n",
    "nm = 1e-9\n",
    "#A small constant for us to use if needed\n",
    "eps = nm"
   ]
  },
  {
   "cell_type": "code",
   "execution_count": 22,
   "id": "1b963e2c-d9da-483e-843c-8419f463c5bc",
   "metadata": {},
   "outputs": [],
   "source": [
    "#Now let's define our aperture width, our wavelength, and our propagation distance\n",
    "l = 5*mm\n",
    "wavelength = 500*nm\n",
    "z = np.linspace(1*mm,10*cm, int(10/mm))"
   ]
  },
  {
   "cell_type": "code",
   "execution_count": 23,
   "id": "664d1faf-5f35-4392-8bc6-5061074b1bf7",
   "metadata": {},
   "outputs": [],
   "source": [
    "#Now we can find our Fresnel Number\n",
    "N_f = ( (l/2)**2 ) / (wavelength * z)"
   ]
  },
  {
   "cell_type": "code",
   "execution_count": 24,
   "id": "97ad9b47-3ba2-4529-9d77-50f263e97623",
   "metadata": {},
   "outputs": [
    {
     "data": {
      "text/plain": [
       "[<matplotlib.lines.Line2D at 0x7f24fb085780>]"
      ]
     },
     "execution_count": 24,
     "metadata": {},
     "output_type": "execute_result"
    },
    {
     "data": {
      "image/png": "[encoded data removed]",
      "text/plain": [
       "<Figure size 432x288 with 1 Axes>"
      ]
     },
     "metadata": {
      "needs_background": "light"
     },
     "output_type": "display_data"
    }
   ],
   "source": [
    "plt.plot(N_f,z)"
   ]
  },
  {
   "cell_type": "code",
   "execution_count": null,
   "id": "b89afce4-681c-4bbc-8304-7e83d4b61bb2",
   "metadata": {},
   "outputs": [],
   "source": []
  }
 ],
 "metadata": {
  "kernelspec": {
   "display_name": "Python 3 (ipykernel)",
   "language": "python",
   "name": "python3"
  },
  "language_info": {
   "codemirror_mode": {
    "name": "ipython",
    "version": 3
   },
   "file_extension": ".py",
   "mimetype": "text/x-python",
   "name": "python",
   "nbconvert_exporter": "python",
   "pygments_lexer": "ipython3",
   "version": "3.10.2"
  }
 },
 "nbformat": 4,
 "nbformat_minor": 5
}
