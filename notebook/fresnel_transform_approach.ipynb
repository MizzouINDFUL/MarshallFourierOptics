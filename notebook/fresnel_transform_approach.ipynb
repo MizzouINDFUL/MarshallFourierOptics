{
 "cells": [
  {
   "cell_type": "markdown",
   "id": "f0570cfd-777d-4580-8ccf-9d6278c595fb",
   "metadata": {},
   "source": [
    "## Fresnel Transform Approach\n",
    "\n",
    "1. Given wavelength ($\\lambda$), z, and the width $l$ of the aperture at it's widest point, calculate the Fresnel number $N_f$ of theoverall aperture.\n",
    "2. Choose an allowable level of intensity at the edge of the diffraction pattern, thus defining an aliasing criterion.\n",
    "3. With the help of Fig. 5.4, choose a value of M, N, and Q that would suffice for a rectangular aperture.\n",
    "4. Create the aperture array and the quadratic-phase exponential array, *both of size MxM* (**not** NxN), *and both centered at index* (M/2, M/2).\n",
    "5. Multiply the two arrays together element by element.\n",
    "6. Pad the MxM resulting array with zeros to create an dNxN array with the MxM array centered inside of it.\n",
    "7. Perform a DFT on the NxN array , using the FFT algorithm.\n",
    "8. Shift the center of the resulting sequence from (n,m)=(0,0) to the center of the array, i.e. to (n,m) = (N/2, N/2). \n",
    "9. If the field in the diffraction pattern is of interest, multiply the result of the DFT by an appropriate quadratic-phase factor, as in (5-30). If intensity is of interest, take the magnitude squared of each element in the result of the DFT.\n",
    "10. Experiment by increasing or decreasing M and examining the aliasing level at the edge of the pattern and increase or decrease Q while monitoring the sidlob shape at the edge fo the diffraction pattern on a log plot to determine the minimum allowable value of Q."
   ]
  },
  {
   "cell_type": "code",
   "execution_count": 1,
   "id": "55a749dc-2bf4-483b-b4a5-a2ae9284582a",
   "metadata": {},
   "outputs": [],
   "source": [
    "#Import some packages that we will need\n",
    "import torch\n",
    "import matplotlib.pyplot as plt\n",
    "import pint\n",
    "import numpy as np\n",
    "\n",
    "u = pint.UnitRegistry()\n",
    "\n",
    "plt.style.use(['science','notebook'])\n",
    "\n",
    "%matplotlib ipympl"
   ]
  },
  {
   "cell_type": "code",
   "execution_count": 2,
   "id": "0058d9a2-9534-47c7-ae2d-37d4f233f243",
   "metadata": {},
   "outputs": [],
   "source": [
    "#Now let's define our aperture width, our wavelength, and our propagation distance\n",
    "\n",
    "#Aperture Width\n",
    "l = 0.1 * u.mm\n",
    "\n",
    "#Wavelength\n",
    "wavelength = 660 * u.nm\n",
    "\n",
    "#Propagation Distance\n",
    "z = 3 * u.cm\n",
    "\n",
    "#Wavenumber (k)\n",
    "wavenumber = 2*np.pi/wavelength"
   ]
  },
  {
   "cell_type": "code",
   "execution_count": 3,
   "id": "7c5329ca-99a8-4a16-9a43-e5501b57f771",
   "metadata": {},
   "outputs": [
    {
     "name": "stdout",
     "output_type": "stream",
     "text": [
      "Nf = 0.12626262626262627 - We are in the Far Field\n"
     ]
    }
   ],
   "source": [
    "#1) Find our Fresnel Number\n",
    "N_f = ( (l/2)**2 ) / (wavelength * z)\n",
    "N_f = N_f.to_base_units()\n",
    "\n",
    "if N_f < 0.25:\n",
    "    print(f\"Nf = {N_f.magnitude} - We are in the Far Field\")\n",
    "else:\n",
    "    print(f\"Nf = {N_f.magnitude} - We are in the Near Field\")"
   ]
  },
  {
   "cell_type": "code",
   "execution_count": 4,
   "id": "38e82b79-52c3-4736-ab37-5773454e1622",
   "metadata": {},
   "outputs": [],
   "source": [
    "#2) Choose acceptable aliasing\n",
    "aliasing_error = 1e-3 #Pretty arbitrary, should experiment with this"
   ]
  },
  {
   "cell_type": "code",
   "execution_count": 5,
   "id": "ac1c0496-bec7-40fc-ada8-fbfeaca9feeb",
   "metadata": {},
   "outputs": [
    {
     "name": "stdout",
     "output_type": "stream",
     "text": [
      "M = 15\n",
      "Q = 29.7 dimensionless\n",
      "N = 445.5 dimensionless\n",
      "L = 2.97 millimeter\n"
     ]
    }
   ],
   "source": [
    "#3) M, Q, N\n",
    "\n",
    "#Samples in the open aperture\n",
    "M = 15\n",
    "\n",
    "#Sampling Ratio\n",
    "Q = M / (4*N_f)\n",
    "Q = Q.to_base_units()\n",
    "\n",
    "#Total width of the aperture\n",
    "L = wavelength * z * M / l\n",
    "L = L.to_compact()\n",
    "\n",
    "#Total number of samples in the simulation\n",
    "N = Q * M\n",
    "\n",
    "#Sample spacing in the aperture plane\n",
    "dx = L / N\n",
    "dy = dx\n",
    "#Sample spacing in the Frequency domain\n",
    "dfx = 1 / L\n",
    "dfy = dfx\n",
    "\n",
    "print(f\"M = {M}\")\n",
    "print(f\"Q = {Q}\")\n",
    "print(f\"N = {N}\")\n",
    "print(f\"L = {L}\")"
   ]
  },
  {
   "cell_type": "code",
   "execution_count": null,
   "id": "acc0b219-0129-4956-97e0-56efa86851a9",
   "metadata": {},
   "outputs": [],
   "source": []
  }
 ],
 "metadata": {
  "kernelspec": {
   "display_name": "Python 3 (ipykernel)",
   "language": "python",
   "name": "python3"
  },
  "language_info": {
   "codemirror_mode": {
    "name": "ipython",
    "version": 3
   },
   "file_extension": ".py",
   "mimetype": "text/x-python",
   "name": "python",
   "nbconvert_exporter": "python",
   "pygments_lexer": "ipython3",
   "version": "3.9.10"
  }
 },
 "nbformat": 4,
 "nbformat_minor": 5
}
