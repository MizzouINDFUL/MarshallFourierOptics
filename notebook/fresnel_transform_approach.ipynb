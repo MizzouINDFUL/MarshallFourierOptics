{
 "cells": [
  {
   "cell_type": "markdown",
   "id": "f0570cfd-777d-4580-8ccf-9d6278c595fb",
   "metadata": {},
   "source": [
    "## Fresnel Transform Approach\n",
    "\n",
    "1. Given wavelength ($\\lambda$), z, and the width $l$ of the aperture at it's widest point, calculate the Fresnel number $N_f$ of theoverall aperture.\n",
    "2. Choose an allowable level of intensity at the edge of the diffraction pattern, thus defining an aliasing criterion.\n",
    "3. With the help of Fig. 5.4, choose a value of M, N, and Q that would suffice for a rectangular aperture.\n",
    "4. Create the aperture array and the quadratic-phase exponential array, *both of size MxM* (**not** NxN), *and both centered at index* (M/2, M/2).\n",
    "5. Multiply the two arrays together element by element.\n",
    "6. Pad the MxM resulting array with zeros to create an dNxN array with the MxM array centered inside of it.\n",
    "7. Perform a DFT on the NxN array , using the FFT algorithm.\n",
    "8. Shift the center of the resulting sequence from (n,m)=(0,0) to the center of the array, i.e. to (n,m) = (N/2, N/2). \n",
    "9. If the field in the diffraction pattern is of interest, multiply the result of the DFT by an appropriate quadratic-phase factor, as in (5-30). If intensity is of interest, take the magnitude squared of each element in the result of the DFT.\n",
    "10. Experiment by increasing or decreasing M and examining the aliasing level at the edge of the pattern and increase or decrease Q while monitoring the sidlob shape at the edge fo the diffraction pattern on a log plot to determine the minimum allowable value of Q."
   ]
  },
  {
   "cell_type": "code",
   "execution_count": null,
   "id": "55a749dc-2bf4-483b-b4a5-a2ae9284582a",
   "metadata": {},
   "outputs": [],
   "source": []
  }
 ],
 "metadata": {
  "kernelspec": {
   "display_name": "Python 3 (ipykernel)",
   "language": "python",
   "name": "python3"
  },
  "language_info": {
   "codemirror_mode": {
    "name": "ipython",
    "version": 3
   },
   "file_extension": ".py",
   "mimetype": "text/x-python",
   "name": "python",
   "nbconvert_exporter": "python",
   "pygments_lexer": "ipython3",
   "version": "3.10.2"
  }
 },
 "nbformat": 4,
 "nbformat_minor": 5
}
