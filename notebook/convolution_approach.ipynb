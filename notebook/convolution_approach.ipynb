{
 "cells": [
  {
   "cell_type": "markdown",
   "id": "989df752-5917-439a-8734-4135a6867633",
   "metadata": {},
   "source": [
    "## The Convolutional Approach"
   ]
  },
  {
   "cell_type": "code",
   "execution_count": 1,
   "id": "d097b969-9880-4f39-bb14-18c79f42d3f4",
   "metadata": {},
   "outputs": [],
   "source": [
    "import numpy as np\n",
    "import matplotlib.pyplot as plt"
   ]
  },
  {
   "cell_type": "code",
   "execution_count": null,
   "id": "5e7d368c-72a6-4c44-8305-842890b40cea",
   "metadata": {},
   "outputs": [],
   "source": []
  }
 ],
 "metadata": {
  "kernelspec": {
   "display_name": "Python 3 (ipykernel)",
   "language": "python",
   "name": "python3"
  },
  "language_info": {
   "codemirror_mode": {
    "name": "ipython",
    "version": 3
   },
   "file_extension": ".py",
   "mimetype": "text/x-python",
   "name": "python",
   "nbconvert_exporter": "python",
   "pygments_lexer": "ipython3",
   "version": "3.10.2"
  }
 },
 "nbformat": 4,
 "nbformat_minor": 5
}
