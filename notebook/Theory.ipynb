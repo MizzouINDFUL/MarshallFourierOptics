{
 "cells": [
  {
   "cell_type": "markdown",
   "id": "a4effe42-d5a2-45de-af4a-a2605f442a14",
   "metadata": {},
   "source": [
    "## From Maxwell's Equations to the Scalar Wave Equation"
   ]
  },
  {
   "cell_type": "markdown",
   "id": "074e2240-ef53-4f05-926f-9717ef7cbc59",
   "metadata": {},
   "source": [
    "### Maxwell's Equations\n",
    "\n",
    "The differential form of Maxwell's equations are:\n",
    "\n",
    "\\begin{align}\n",
    "\\nabla \\times \\vec{E} &= \\frac{-\\partial \\vec{B}}{\\partial t} &\\mbox{Faraday's Law} \\\\\n",
    "\\nabla \\times \\vec{B} &= \\mu_0 \\mathbf{J} + \\mu_0 \\epsilon_0 \\frac{\\partial \\vec{E}}{\\partial t} &\\mbox{Ampere's Law}\\\\\n",
    "\\nabla \\cdot \\vec{E} &= \\frac{1}{\\epsilon_0} \\rho  & \\mbox{Gauss's Law}\\\\\n",
    "\\nabla \\cdot \\vec{B} &= 0 & \\mbox{No Name}\\\\\n",
    "\\end{align}\n",
    "\n",
    "where $\\vec{E} \\; [V/m]$ is the electric field, $\\vec{B} \\; [N/A\\cdot m]$ is the magnetic field, $\\rho \\; [C/m^3]$ is electric charge density, $\\mathbf{J} \\; [A/m^2]$ is the current density, $\\epsilon_0 \\; [F/m]$ is the vacuum permittivity, and $\\mu \\; [H/m]$ is the vacuum permeability. Here, $(\\times)$ is the vector cross product, $(\\cdot)$ is the vector dot product, and $\\nabla = \\frac{\\partial}{\\partial x}\\hat{x} + \\frac{\\partial}{\\partial y}\\hat{y} + \\frac{\\partial}{\\partial z}\\hat{z}$ where $\\hat{x}$, $\\hat{y}$, $\\hat{z}$ are unit vectors in the $x$, $y$, and $z$ directions respectively. The electric and magnetic fields are related to the electric displacement ($\\vec{D} \\; [C/m^2]$) and magnetic intensity ($\\vec{H} \\; [A/m]$) through what are called the constituent relations:\n",
    "\n",
    "\\begin{align}\n",
    "\\vec{H} &= \\mu \\vec{B} \\\\\n",
    "\\vec{D} &= \\epsilon \\vec{E}.\n",
    "\\end{align}\n",
    "\n",
    "Here, we are being a little loosey-goosey with our use of $\\epsilon$ and $\\mu$ notation. From this point forward, unless specifically mentioned, $\\mu = \\mu_0$ and $\\epsilon = \\epsilon_0$, and we will use them interchangeably. It's common to write Maxwell's equations in terms of $\\vec{E}$ and $\\vec{H}$ due to the similarity of units, i.e., $[V/m]$ and $[A/m]$ respectively. In addition, we are interested in free-space propagation of these fields which means we can assume $\\rho = 0$ and $\\mathbf{J} = 0$. With these considerations, we can rewrite Maxwell's equations as\n",
    "\n",
    "\\begin{align}\n",
    "\\nabla \\times \\vec{E} &= -\\mu_0  \\frac{\\partial \\vec{H}}{\\partial t}\\\\\n",
    "\\nabla \\times \\vec{H} &= \\epsilon_0 \\frac{\\partial \\vec{E}}{\\partial t}\\\\\n",
    "\\nabla \\cdot \\vec{E} &= 0\\\\\n",
    "\\nabla \\cdot \\vec{B} &= 0\\\\\n",
    "\\end{align}\n",
    "\n",
    "which form a system of first order (FO) coupled partial differential equations (PDEs). This is the starting point for our scalar wave equation derivation. "
   ]
  },
  {
   "cell_type": "markdown",
   "id": "8d4d9c48-35fc-406f-8128-11ffa1258135",
   "metadata": {},
   "source": [
    "### Scalar Wave Equation\n",
    "\n",
    "The goal of deriving the scalar wave equation is two-fold. First, we would like to decouple the system of PDEs. Second, we would like to remove the vector nature of the equations through assumptions about our 'universe'.\n",
    "\n",
    "#### 1) Decoupling the PDEs\n",
    "To decouple the PDEs we take the curl of Faraday's law and simplify with the vector identity $\\nabla \\times (\\nabla \\times \\vec{E}) = \\nabla(\\nabla \\cdot \\vec{E}) - \\nabla^2 \\vec{E}$, Ampere's law, and Gauss's law assuming no charge density: \n",
    "\\begin{align}\n",
    "\\nabla \\times (\\nabla \\times \\vec{E}) &= \\nabla \\times \\left(-\\mu_0 \\frac{\\partial \\vec{H}}{\\partial t} \\right) \\\\\n",
    "\\nabla(\\nabla \\cdot \\vec{E}) - \\nabla^2 \\vec{E} &= -\\mu_0 \\frac{\\partial}{\\partial t} \\left(\\nabla \\times \\vec{H} \\right) \\\\\n",
    "-\\nabla^2 \\vec{E} &= -\\mu_0 \\frac{\\partial}{\\partial t} \\left(\\epsilon_0 \\frac{\\partial \\vec{E}}{\\partial t}\\right) \\\\\n",
    "\\nabla^2 \\vec{E} -\\mu_0 \\epsilon_0 \\left( \\frac{\\partial^2 \\vec{E}}{\\partial t^2}\\right) &= 0  \\\\\n",
    "\\end{align}\n",
    "which is the vector wave equation. Notice that we started with a system of first order coupled partial differential equations, and we have now arrived at a second order (un-coupled) partial differential equation. There is one final simplification that is typical in most textbooks. We first need to define the index of refraction $n = \\sqrt{\\frac{\\epsilon}{\\epsilon_0}}$ and the speed of light $c = \\frac{1}{\\sqrt{\\mu_0 \\epsilon_0}}$."
   ]
  },
  {
   "cell_type": "markdown",
   "id": "73a21133-b293-41c6-a235-b0b7b1ecd27c",
   "metadata": {},
   "source": [
    "At this point, we need to make some assumptions about our 'universe'. These assuptions are:\n",
    "\n",
    "1) There is no free charge (i.e., $\\rho = 0$)\n",
    "2) There is no current (i.e., $\\mathbf{J} = 0$)\n",
    "3) "
   ]
  },
  {
   "cell_type": "code",
   "execution_count": null,
   "id": "e0d92a3f-9483-4005-9860-0215f61c99f6",
   "metadata": {},
   "outputs": [],
   "source": []
  }
 ],
 "metadata": {
  "kernelspec": {
   "display_name": "Python 3 (ipykernel)",
   "language": "python",
   "name": "python3"
  },
  "language_info": {
   "codemirror_mode": {
    "name": "ipython",
    "version": 3
   },
   "file_extension": ".py",
   "mimetype": "text/x-python",
   "name": "python",
   "nbconvert_exporter": "python",
   "pygments_lexer": "ipython3",
   "version": "3.9.10"
  }
 },
 "nbformat": 4,
 "nbformat_minor": 5
}
